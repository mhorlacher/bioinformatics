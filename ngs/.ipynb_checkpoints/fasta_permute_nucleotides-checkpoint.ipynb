{
 "cells": [
  {
   "cell_type": "code",
   "execution_count": 62,
   "metadata": {},
   "outputs": [],
   "source": [
    "from pathlib import Path\n",
    "import argparse"
   ]
  },
  {
   "cell_type": "code",
   "execution_count": null,
   "metadata": {},
   "outputs": [],
   "source": [
    "import numpy as np"
   ]
  },
  {
   "cell_type": "code",
   "execution_count": null,
   "metadata": {},
   "outputs": [],
   "source": [
    "parser = argparse.ArgumentParser()\n",
    "parser.add_argument('-n', '--number', type=int)\n",
    "parser.add_argument('-s', '--seed', default=None, type=int)\n",
    "parser.add_argument('-o', '--outdir', default='.')\n",
    "parser.add_argument('in_fa', metavar='<in.fasta>')\n",
    "args = parser.parse_args()"
   ]
  },
  {
   "cell_type": "code",
   "execution_count": null,
   "metadata": {},
   "outputs": [],
   "source": [
    "if args.seed is not None:\n",
    "    np.random.seed(args.seed)"
   ]
  },
  {
   "cell_type": "code",
   "execution_count": 55,
   "metadata": {},
   "outputs": [],
   "source": [
    "def shuffle_seq(seq):\n",
    "    seq_arr = np.array(list(seq))\n",
    "    np.random.shuffle(seq_arr)\n",
    "    return ''.join(list(seq_arr))"
   ]
  },
  {
   "cell_type": "code",
   "execution_count": 69,
   "metadata": {},
   "outputs": [],
   "source": [
    "def write_shuffle(seq, seq_id, n, out):\n",
    "    basepath = Path(out).joinpath(f'{seq_id}.permuted')\n",
    "    basepath.mkdir(exist_ok=True)\n",
    "    for i in range(0, n):\n",
    "        with open(str(basepath.joinpath(f'{seq_id}.permuted.{i}.fa')), 'w') as f:\n",
    "            f.write(f'>{seq_id}\\n')\n",
    "            f.write(shuffle_seq(seq))"
   ]
  },
  {
   "cell_type": "code",
   "execution_count": 70,
   "metadata": {},
   "outputs": [],
   "source": [
    "with open(args.in_fa) as f:\n",
    "    current_filepath = None\n",
    "    current_id = None\n",
    "    current_sequence = ''\n",
    "    for line in f:\n",
    "        if line[0] == '>':\n",
    "            if current_id is not None:\n",
    "                write_shuffle(current_sequence, current_id, args.number, args.outdir)\n",
    "                \n",
    "            current_sequence = ''\n",
    "            current_id = line[1:].strip().split(' ')[0]\n",
    "        else:\n",
    "            current_sequence += line.strip()\n",
    "    \n",
    "    write_shuffle(current_sequence, current_id, args.number, args.outdir)"
   ]
  }
 ],
 "metadata": {
  "kernelspec": {
   "display_name": "Python 3",
   "language": "python",
   "name": "python3"
  },
  "language_info": {
   "codemirror_mode": {
    "name": "ipython",
    "version": 3
   },
   "file_extension": ".py",
   "mimetype": "text/x-python",
   "name": "python",
   "nbconvert_exporter": "python",
   "pygments_lexer": "ipython3",
   "version": "3.7.6"
  }
 },
 "nbformat": 4,
 "nbformat_minor": 4
}
